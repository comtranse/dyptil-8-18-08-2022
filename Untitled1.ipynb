{
 "cells": [
  {
   "cell_type": "code",
   "execution_count": 2,
   "id": "a8e2fb56",
   "metadata": {},
   "outputs": [
    {
     "name": "stdout",
     "output_type": "stream",
     "text": [
      "1\n",
      "2\n",
      "3\n",
      "4\n",
      "5\n"
     ]
    }
   ],
   "source": [
    "md=(1,2,3,4,5)\n",
    "for p in md:\n",
    "    print(p)"
   ]
  },
  {
   "cell_type": "code",
   "execution_count": 3,
   "id": "82382057",
   "metadata": {},
   "outputs": [
    {
     "name": "stdout",
     "output_type": "stream",
     "text": [
      "1\n",
      "2\n",
      "3\n",
      "4\n",
      "5\n"
     ]
    }
   ],
   "source": [
    "md=(1,2,3,4,5)\n",
    "i=0\n",
    "while i<len(md):\n",
    "    print(md[i])\n",
    "    i=i+1"
   ]
  },
  {
   "cell_type": "code",
   "execution_count": 4,
   "id": "5787e5d3",
   "metadata": {},
   "outputs": [
    {
     "name": "stdout",
     "output_type": "stream",
     "text": [
      "Use *= [33, 33, 5, 23j, 'hgjgjj', 'hhghn']\n",
      "[5, 'fff']\n",
      "('ggg', 988)\n"
     ]
    }
   ],
   "source": [
    "md=(33,33,5,23j,\"hgjgjj\",'hhghn',[5,\"fff\"],('ggg',988))\n",
    "(*a,b,c)=md\n",
    "print(\"Use *=\",a)\n",
    "print(b)\n",
    "print(c)"
   ]
  },
  {
   "cell_type": "code",
   "execution_count": 7,
   "id": "61a78d97",
   "metadata": {},
   "outputs": [
    {
     "name": "stdout",
     "output_type": "stream",
     "text": [
      "1\n",
      "2\n",
      "3\n",
      "4\n",
      "5\n",
      "6\n",
      "7\n",
      "8\n",
      "9\n"
     ]
    }
   ],
   "source": [
    "for i in range(1,10):\n",
    "    print(i)"
   ]
  },
  {
   "cell_type": "code",
   "execution_count": 8,
   "id": "ceab0d35",
   "metadata": {},
   "outputs": [
    {
     "name": "stdout",
     "output_type": "stream",
     "text": [
      "(5, 6, 7, 10, 15, 20, 25)\n"
     ]
    }
   ],
   "source": [
    "d=(10,15,20,25)\n",
    "c=(5,6,7)\n",
    "e=c+d\n",
    "print(e)"
   ]
  },
  {
   "cell_type": "code",
   "execution_count": 9,
   "id": "cdd30eb2",
   "metadata": {},
   "outputs": [
    {
     "name": "stdout",
     "output_type": "stream",
     "text": [
      "1\n",
      "6\n",
      "11\n",
      "16\n"
     ]
    }
   ],
   "source": [
    "for i in range(1,20,5):\n",
    "    print(i)"
   ]
  },
  {
   "cell_type": "code",
   "execution_count": 19,
   "id": "b07a22d0",
   "metadata": {},
   "outputs": [
    {
     "name": "stdout",
     "output_type": "stream",
     "text": [
      "[-5465, 12, 'sdfafcg', 5.78, 'hghfhg', 34, 34, {23: 'hgfgfh'}, ('hh', 86, 'tt')]\n",
      "[-5465, 12, 'abc', 5.78, 'hghfhg', 34, 34, {23: 'hgfgfh'}, ('hh', 86, 'tt')]\n",
      "[-5465, 12, 5.78, 'hghfhg', 34, 34, {23: 'hgfgfh'}, ('hh', 86, 'tt')]\n",
      "[-5465, 12, 5.78, 'hghfhg', 34, {23: 'hgfgfh'}, ('hh', 86, 'tt')]\n",
      "[]\n"
     ]
    },
    {
     "ename": "NameError",
     "evalue": "name 'mylist' is not defined",
     "output_type": "error",
     "traceback": [
      "\u001b[1;31m---------------------------------------------------------------------------\u001b[0m",
      "\u001b[1;31mNameError\u001b[0m                                 Traceback (most recent call last)",
      "Input \u001b[1;32mIn [19]\u001b[0m, in \u001b[0;36m<cell line: 15>\u001b[1;34m()\u001b[0m\n\u001b[0;32m     12\u001b[0m \u001b[38;5;28mprint\u001b[39m(mylist)\n\u001b[0;32m     14\u001b[0m \u001b[38;5;28;01mdel\u001b[39;00m mylist\n\u001b[1;32m---> 15\u001b[0m \u001b[38;5;28mprint\u001b[39m(\u001b[43mmylist\u001b[49m)\n",
      "\u001b[1;31mNameError\u001b[0m: name 'mylist' is not defined"
     ]
    }
   ],
   "source": [
    "mylist=[-5465,\"sdfafcg\",5.78,\"hghfhg\",34,34,{23:\"hgfgfh\"},('hh',86,'tt')]\n",
    "mylist.insert(1,12)\n",
    "print(mylist)\n",
    "mylist[2]=\"abc\"\n",
    "print(mylist)\n",
    "mylist.remove(mylist[2])\n",
    "print(mylist)\n",
    "mylist.pop(5)\n",
    "print(mylist)\n",
    "\n",
    "mylist.clear()\n",
    "print(mylist)\n",
    "\n",
    "del mylist\n",
    "print(mylist)"
   ]
  },
  {
   "cell_type": "code",
   "execution_count": null,
   "id": "9cb53aeb",
   "metadata": {},
   "outputs": [],
   "source": [
    "\n"
   ]
  }
 ],
 "metadata": {
  "kernelspec": {
   "display_name": "Python 3 (ipykernel)",
   "language": "python",
   "name": "python3"
  },
  "language_info": {
   "codemirror_mode": {
    "name": "ipython",
    "version": 3
   },
   "file_extension": ".py",
   "mimetype": "text/x-python",
   "name": "python",
   "nbconvert_exporter": "python",
   "pygments_lexer": "ipython3",
   "version": "3.9.12"
  }
 },
 "nbformat": 4,
 "nbformat_minor": 5
}
