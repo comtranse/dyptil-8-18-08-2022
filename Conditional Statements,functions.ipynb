{
 "cells": [
  {
   "cell_type": "markdown",
   "id": "bd46c9e9",
   "metadata": {},
   "source": [
    "# While loop"
   ]
  },
  {
   "cell_type": "code",
   "execution_count": 1,
   "id": "75490902",
   "metadata": {},
   "outputs": [
    {
     "name": "stdout",
     "output_type": "stream",
     "text": [
      "1\n",
      "2\n",
      "3\n",
      "4\n",
      "5\n",
      "6\n",
      "7\n",
      "8\n",
      "9\n",
      "10\n",
      "11\n",
      "12\n",
      "13\n",
      "14\n",
      "15\n",
      "16\n",
      "17\n",
      "18\n",
      "19\n"
     ]
    }
   ],
   "source": [
    "A = 1\n",
    "while(A<20):\n",
    "    print(A)\n",
    "    A += 1"
   ]
  },
  {
   "cell_type": "code",
   "execution_count": 17,
   "id": "9e8ea709",
   "metadata": {},
   "outputs": [
    {
     "name": "stdout",
     "output_type": "stream",
     "text": [
      "153\n",
      "Amstrong\n"
     ]
    }
   ],
   "source": [
    "B = int(input())\n",
    "s=0\n",
    "temp=B\n",
    "while(B>0):\n",
    "    r = B%10\n",
    "    s = s+(r*r*r)\n",
    "    B = B//10\n",
    "if(temp==s):\n",
    "    print(\"Amstrong\")\n",
    "else:\n",
    "    print(\"Not Amstrong\")"
   ]
  },
  {
   "cell_type": "markdown",
   "id": "ea132e05",
   "metadata": {},
   "source": [
    "# Conditional Statements"
   ]
  },
  {
   "cell_type": "code",
   "execution_count": 10,
   "id": "0ad4cff9",
   "metadata": {},
   "outputs": [
    {
     "name": "stdout",
     "output_type": "stream",
     "text": [
      "15 is greater\n"
     ]
    }
   ],
   "source": [
    "I = 10\n",
    "J = 15\n",
    "if(I>=J):\n",
    "    print(I,\"is greater\")\n",
    "else:\n",
    "    print(J,\"is greater\")"
   ]
  },
  {
   "cell_type": "code",
   "execution_count": 13,
   "id": "878da267",
   "metadata": {},
   "outputs": [
    {
     "name": "stdout",
     "output_type": "stream",
     "text": [
      "5\n",
      "5 is odd\n"
     ]
    }
   ],
   "source": [
    "N = int(input())\n",
    "if(N%2==0):\n",
    "    print(N,\"is even\")\n",
    "else:\n",
    "    print(N,\"is odd\")"
   ]
  },
  {
   "cell_type": "markdown",
   "id": "5324416b",
   "metadata": {},
   "source": [
    "# Functions"
   ]
  },
  {
   "cell_type": "code",
   "execution_count": 18,
   "id": "26e3a02b",
   "metadata": {},
   "outputs": [
    {
     "name": "stdout",
     "output_type": "stream",
     "text": [
      "Hi\n"
     ]
    }
   ],
   "source": [
    "def fun():\n",
    "    print(\"Hi\")\n",
    "fun()"
   ]
  },
  {
   "cell_type": "code",
   "execution_count": 19,
   "id": "2363eefd",
   "metadata": {},
   "outputs": [
    {
     "name": "stdout",
     "output_type": "stream",
     "text": [
      "30\n"
     ]
    }
   ],
   "source": [
    "def fun1(x,y):\n",
    "    print(x+y)\n",
    "fun1(10,20)"
   ]
  },
  {
   "cell_type": "code",
   "execution_count": 20,
   "id": "c1ac0abe",
   "metadata": {},
   "outputs": [
    {
     "name": "stdout",
     "output_type": "stream",
     "text": [
      "-10\n"
     ]
    }
   ],
   "source": [
    "def fun1(x,y):\n",
    "    print(x-y)\n",
    "fun1(10,20)"
   ]
  },
  {
   "cell_type": "code",
   "execution_count": null,
   "id": "22fab782",
   "metadata": {},
   "outputs": [],
   "source": []
  }
 ],
 "metadata": {
  "kernelspec": {
   "display_name": "Python 3 (ipykernel)",
   "language": "python",
   "name": "python3"
  },
  "language_info": {
   "codemirror_mode": {
    "name": "ipython",
    "version": 3
   },
   "file_extension": ".py",
   "mimetype": "text/x-python",
   "name": "python",
   "nbconvert_exporter": "python",
   "pygments_lexer": "ipython3",
   "version": "3.9.7"
  }
 },
 "nbformat": 4,
 "nbformat_minor": 5
}
