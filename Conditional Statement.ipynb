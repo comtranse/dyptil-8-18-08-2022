{
 "cells": [
  {
   "cell_type": "code",
   "execution_count": 8,
   "id": "bfa2eba8",
   "metadata": {},
   "outputs": [
    {
     "name": "stdout",
     "output_type": "stream",
     "text": [
      "0\n",
      "1\n",
      "2\n",
      "3\n",
      "4\n",
      "5\n",
      "6\n",
      "7\n",
      "8\n",
      "9\n"
     ]
    }
   ],
   "source": [
    "# Loop\n",
    "i=0\n",
    "while(i<10):\n",
    "    print(i)\n",
    "    i+=1\n",
    "j=0\n",
    "while(i<50):\n",
    "        for j in i:\n",
    "            if()"
   ]
  },
  {
   "cell_type": "code",
   "execution_count": 16,
   "id": "9aee6947",
   "metadata": {},
   "outputs": [
    {
     "name": "stdout",
     "output_type": "stream",
     "text": [
      "123\n",
      "Not Amstrong\n"
     ]
    }
   ],
   "source": [
    "B=int(input())\n",
    "r=s=0\n",
    "temp=B\n",
    "while(B>0):\n",
    "    r=B%10\n",
    "    s=s+(r*r*r)\n",
    "    B=B/10\n",
    "if(temp==s):\n",
    "    print(\"Amstrong\")\n",
    "else:\n",
    "    print(\"Not Amstrong\")"
   ]
  },
  {
   "cell_type": "code",
   "execution_count": 17,
   "id": "1cf0b866",
   "metadata": {},
   "outputs": [
    {
     "name": "stdout",
     "output_type": "stream",
     "text": [
      "greater 20\n"
     ]
    }
   ],
   "source": [
    "# Conditional Statement\n",
    "A=10\n",
    "B=20\n",
    "if(A==B):\n",
    "    print(\"greater\",A)\n",
    "else:\n",
    "    print(\"greater\",B)"
   ]
  },
  {
   "cell_type": "code",
   "execution_count": 19,
   "id": "a020aee8",
   "metadata": {},
   "outputs": [
    {
     "name": "stdout",
     "output_type": "stream",
     "text": [
      "30\n",
      "40\n",
      "60\n",
      "60\n"
     ]
    }
   ],
   "source": [
    "a=int(input())\n",
    "b=int(input())\n",
    "c=int(input())\n",
    "if(a>b):\n",
    "    print(a)\n",
    "elif(b>c):\n",
    "    print(b)\n",
    "else:\n",
    "    print(c)"
   ]
  },
  {
   "cell_type": "code",
   "execution_count": 23,
   "id": "ca94f67b",
   "metadata": {},
   "outputs": [
    {
     "name": "stdout",
     "output_type": "stream",
     "text": [
      "3\n",
      "Odd\n"
     ]
    }
   ],
   "source": [
    "a=int(input())\n",
    "if(a%2==0):\n",
    "    print(\"Even\")\n",
    "else:\n",
    "    print(\"Odd\")"
   ]
  },
  {
   "cell_type": "code",
   "execution_count": 25,
   "id": "8bd34f6a",
   "metadata": {},
   "outputs": [
    {
     "name": "stdout",
     "output_type": "stream",
     "text": [
      "abc\n"
     ]
    }
   ],
   "source": [
    "def fun():\n",
    "    print(\"abc\")\n",
    "fun()\n"
   ]
  },
  {
   "cell_type": "code",
   "execution_count": 29,
   "id": "fa1f0751",
   "metadata": {},
   "outputs": [
    {
     "name": "stdout",
     "output_type": "stream",
     "text": [
      "sum 12\n"
     ]
    }
   ],
   "source": [
    "def add(a,b):\n",
    "    print(\"sum\",a+b)\n",
    "add(4,8)"
   ]
  },
  {
   "cell_type": "code",
   "execution_count": 30,
   "id": "93730836",
   "metadata": {},
   "outputs": [
    {
     "name": "stdout",
     "output_type": "stream",
     "text": [
      "2\n",
      "4\n",
      "sum 6\n"
     ]
    }
   ],
   "source": [
    "def add():\n",
    "    a=int(input())\n",
    "    b=int(input())\n",
    "    print(\"sum\",a+b)\n",
    "add()    "
   ]
  },
  {
   "cell_type": "code",
   "execution_count": null,
   "id": "39a6daeb",
   "metadata": {},
   "outputs": [],
   "source": []
  }
 ],
 "metadata": {
  "kernelspec": {
   "display_name": "Python 3 (ipykernel)",
   "language": "python",
   "name": "python3"
  },
  "language_info": {
   "codemirror_mode": {
    "name": "ipython",
    "version": 3
   },
   "file_extension": ".py",
   "mimetype": "text/x-python",
   "name": "python",
   "nbconvert_exporter": "python",
   "pygments_lexer": "ipython3",
   "version": "3.9.12"
  }
 },
 "nbformat": 4,
 "nbformat_minor": 5
}
