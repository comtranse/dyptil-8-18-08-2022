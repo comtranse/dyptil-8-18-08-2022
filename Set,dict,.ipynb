{
 "cells": [
  {
   "cell_type": "code",
   "execution_count": 1,
   "id": "5df8b0df",
   "metadata": {},
   "outputs": [
    {
     "name": "stdout",
     "output_type": "stream",
     "text": [
      "['a', 'b', 'c', 0, 'd']\n"
     ]
    }
   ],
   "source": [
    "mylist=[\"a\",\"b\",\"c\",0,0,\"d\"]\n",
    "mylist= list(dict.fromkeys(mylist))\n",
    "print(mylist)"
   ]
  },
  {
   "cell_type": "code",
   "execution_count": 3,
   "id": "9922b7ae",
   "metadata": {},
   "outputs": [
    {
     "name": "stdout",
     "output_type": "stream",
     "text": [
      "[0, 'd', 'a', 'b', 'c']\n"
     ]
    }
   ],
   "source": [
    "mylist= list(set(mylist))\n",
    "print(mylist)"
   ]
  },
  {
   "cell_type": "code",
   "execution_count": 4,
   "id": "442214bd",
   "metadata": {},
   "outputs": [
    {
     "name": "stdout",
     "output_type": "stream",
     "text": [
      "[0, 'd', 'a', 'b', 'c']\n"
     ]
    }
   ],
   "source": [
    "mylist =[*set(mylist)]\n",
    "print(mylist)"
   ]
  },
  {
   "cell_type": "code",
   "execution_count": 6,
   "id": "ec3a1cb4",
   "metadata": {},
   "outputs": [
    {
     "name": "stdout",
     "output_type": "stream",
     "text": [
      "['a', 'c', 'd', 'e', 'f']\n"
     ]
    }
   ],
   "source": [
    "# Sorting\n",
    "A=[\"a\",\"d\",\"c\",\"e\",\"f\"]\n",
    "A.sort()\n",
    "print(A)\n"
   ]
  },
  {
   "cell_type": "code",
   "execution_count": 9,
   "id": "b830eb8f",
   "metadata": {},
   "outputs": [
    {
     "name": "stdout",
     "output_type": "stream",
     "text": [
      "['f', 'e', 'd', 'c', 'a']\n",
      "['a', 'c', 'd', 'e', 'f']\n"
     ]
    }
   ],
   "source": [
    "A=[\"a\",\"d\",\"c\",\"e\",\"f\"]\n",
    "A.sort(reverse=True)\n",
    "print(A)\n",
    "A.reverse()\n",
    "print(A)\n"
   ]
  },
  {
   "cell_type": "code",
   "execution_count": 12,
   "id": "7025409e",
   "metadata": {},
   "outputs": [
    {
     "name": "stdout",
     "output_type": "stream",
     "text": [
      "['a', 'c', 'd', 'e', 'f', 0, 'd', 'a', 'b', 'c', 0, 'd', 'a', 'b', 'c', 0, 'd', 'a', 'b', 'c']\n"
     ]
    }
   ],
   "source": [
    "A.extend(mylist)\n",
    "print(A)"
   ]
  },
  {
   "cell_type": "code",
   "execution_count": 22,
   "id": "b3d1d9a0",
   "metadata": {},
   "outputs": [
    {
     "data": {
      "text/plain": [
       "{'A', 'B', 'C', 'D'}"
      ]
     },
     "execution_count": 22,
     "metadata": {},
     "output_type": "execute_result"
    }
   ],
   "source": [
    "Set={\"A\",\"B\",\"C\",\"D\"}\n",
    "Set"
   ]
  },
  {
   "cell_type": "code",
   "execution_count": 17,
   "id": "3b8f53be",
   "metadata": {},
   "outputs": [
    {
     "data": {
      "text/plain": [
       "'D'"
      ]
     },
     "execution_count": 17,
     "metadata": {},
     "output_type": "execute_result"
    }
   ],
   "source": [
    "Set.pop()"
   ]
  },
  {
   "cell_type": "code",
   "execution_count": 23,
   "id": "d8ae02ba",
   "metadata": {},
   "outputs": [
    {
     "data": {
      "text/plain": [
       "{'A', 'B', 'C', 'D', 'E'}"
      ]
     },
     "execution_count": 23,
     "metadata": {},
     "output_type": "execute_result"
    }
   ],
   "source": [
    "Set.add(\"E\")\n",
    "Set"
   ]
  },
  {
   "cell_type": "code",
   "execution_count": 24,
   "id": "e87de6f1",
   "metadata": {},
   "outputs": [
    {
     "data": {
      "text/plain": [
       "{'A', 'B', 'C', 'E'}"
      ]
     },
     "execution_count": 24,
     "metadata": {},
     "output_type": "execute_result"
    }
   ],
   "source": [
    "Set.remove(\"D\")\n",
    "Set"
   ]
  },
  {
   "cell_type": "code",
   "execution_count": 36,
   "id": "c1772d56",
   "metadata": {},
   "outputs": [
    {
     "data": {
      "text/plain": [
       "{1, 2, 3, 4, 'A'}"
      ]
     },
     "execution_count": 36,
     "metadata": {},
     "output_type": "execute_result"
    }
   ],
   "source": [
    "Set2={1,2,3,4,\"A\"}\n",
    "Set2|Set"
   ]
  },
  {
   "cell_type": "code",
   "execution_count": 32,
   "id": "a991ed96",
   "metadata": {},
   "outputs": [
    {
     "name": "stdout",
     "output_type": "stream",
     "text": [
      "None\n"
     ]
    }
   ],
   "source": [
    "print(Set.intersection_update(Set2))"
   ]
  },
  {
   "cell_type": "code",
   "execution_count": 37,
   "id": "52de51e1",
   "metadata": {},
   "outputs": [
    {
     "data": {
      "text/plain": [
       "{1, 2, 3, 4, 'A'}"
      ]
     },
     "execution_count": 37,
     "metadata": {},
     "output_type": "execute_result"
    }
   ],
   "source": [
    "Set.symmetric_difference_update(Set2)\n",
    "Set"
   ]
  },
  {
   "cell_type": "code",
   "execution_count": 39,
   "id": "eb44217e",
   "metadata": {},
   "outputs": [
    {
     "data": {
      "text/plain": [
       "{1: 'D', 2: 'Hello'}"
      ]
     },
     "execution_count": 39,
     "metadata": {},
     "output_type": "execute_result"
    }
   ],
   "source": [
    "# Dictnary\n",
    "dist={1:\"D\",2:\"Hello\"}\n",
    "dist"
   ]
  },
  {
   "cell_type": "code",
   "execution_count": 41,
   "id": "0b2ae646",
   "metadata": {},
   "outputs": [
    {
     "name": "stdout",
     "output_type": "stream",
     "text": [
      "D\n"
     ]
    }
   ],
   "source": [
    "print(dist[1])"
   ]
  },
  {
   "cell_type": "code",
   "execution_count": 45,
   "id": "2afdc865",
   "metadata": {},
   "outputs": [
    {
     "name": "stdout",
     "output_type": "stream",
     "text": [
      "Hello\n"
     ]
    }
   ],
   "source": [
    "print(dist.get(2))\n"
   ]
  },
  {
   "cell_type": "code",
   "execution_count": 46,
   "id": "a20bd431",
   "metadata": {},
   "outputs": [
    {
     "name": "stdout",
     "output_type": "stream",
     "text": [
      "dict_keys([1, 2])\n"
     ]
    }
   ],
   "source": [
    "print(dist.keys())"
   ]
  },
  {
   "cell_type": "code",
   "execution_count": 47,
   "id": "f9f382d3",
   "metadata": {},
   "outputs": [
    {
     "name": "stdout",
     "output_type": "stream",
     "text": [
      "dict_values(['D', 'Hello'])\n"
     ]
    }
   ],
   "source": [
    "print(dist.values())"
   ]
  },
  {
   "cell_type": "code",
   "execution_count": 48,
   "id": "195434ac",
   "metadata": {},
   "outputs": [
    {
     "name": "stdout",
     "output_type": "stream",
     "text": [
      "dict_items([(1, 'D'), (2, 'Hello')])\n"
     ]
    }
   ],
   "source": [
    "print(dist.items())"
   ]
  },
  {
   "cell_type": "code",
   "execution_count": 49,
   "id": "1b8aa589",
   "metadata": {},
   "outputs": [
    {
     "data": {
      "text/plain": [
       "{1: 'D', 2: 'Hello', 3: 'ahsgh'}"
      ]
     },
     "execution_count": 49,
     "metadata": {},
     "output_type": "execute_result"
    }
   ],
   "source": [
    "dist[3] =\"ahsgh\"\n",
    "dist"
   ]
  },
  {
   "cell_type": "code",
   "execution_count": 52,
   "id": "8ebf1206",
   "metadata": {},
   "outputs": [
    {
     "data": {
      "text/plain": [
       "{1: 'D', 2: 'Hello', 3: 'AAA'}"
      ]
     },
     "execution_count": 52,
     "metadata": {},
     "output_type": "execute_result"
    }
   ],
   "source": [
    "dist.update({3:\"AAA\"})\n",
    "dist"
   ]
  },
  {
   "cell_type": "code",
   "execution_count": 54,
   "id": "e98acf41",
   "metadata": {},
   "outputs": [
    {
     "data": {
      "text/plain": [
       "{1: 'D', 2: 'HELLO', 3: 'AAA'}"
      ]
     },
     "execution_count": 54,
     "metadata": {},
     "output_type": "execute_result"
    }
   ],
   "source": [
    "dist.update({2:\"HELLO\"})\n",
    "dist"
   ]
  },
  {
   "cell_type": "code",
   "execution_count": 55,
   "id": "eb1cabce",
   "metadata": {},
   "outputs": [
    {
     "data": {
      "text/plain": [
       "{1: 'D', 3: 'AAA'}"
      ]
     },
     "execution_count": 55,
     "metadata": {},
     "output_type": "execute_result"
    }
   ],
   "source": [
    "dist.pop(2)\n",
    "dist"
   ]
  },
  {
   "cell_type": "code",
   "execution_count": 59,
   "id": "8fb7df4a",
   "metadata": {},
   "outputs": [
    {
     "name": "stdout",
     "output_type": "stream",
     "text": [
      "{1: 'D', 3: 'AAA'}\n",
      "{1: 'D', 3: 'AAA'}\n",
      "{1: 'D', 3: 'AAA'}\n"
     ]
    }
   ],
   "source": [
    "for i in range(1,4):\n",
    "    print(dist)\n",
    "    "
   ]
  },
  {
   "cell_type": "code",
   "execution_count": 64,
   "id": "5ca54782",
   "metadata": {},
   "outputs": [
    {
     "data": {
      "text/plain": [
       "{'var': {1: 'D', 3: 'AAA'}, 'var1': {5: 'a', 6: 'b', 7: 'c'}}"
      ]
     },
     "execution_count": 64,
     "metadata": {},
     "output_type": "execute_result"
    }
   ],
   "source": [
    "dist1 ={5:\"a\",6:\"b\",7:\"c\"}\n",
    "obj={\"var\":dist,\"var1\":dist1}\n",
    "obj"
   ]
  },
  {
   "cell_type": "code",
   "execution_count": null,
   "id": "8755bbcb",
   "metadata": {},
   "outputs": [],
   "source": []
  }
 ],
 "metadata": {
  "kernelspec": {
   "display_name": "Python 3 (ipykernel)",
   "language": "python",
   "name": "python3"
  },
  "language_info": {
   "codemirror_mode": {
    "name": "ipython",
    "version": 3
   },
   "file_extension": ".py",
   "mimetype": "text/x-python",
   "name": "python",
   "nbconvert_exporter": "python",
   "pygments_lexer": "ipython3",
   "version": "3.9.12"
  }
 },
 "nbformat": 4,
 "nbformat_minor": 5
}
