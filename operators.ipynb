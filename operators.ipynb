{
 "cells": [
  {
   "cell_type": "code",
   "execution_count": 1,
   "id": "9f470eac",
   "metadata": {},
   "outputs": [
    {
     "name": "stdout",
     "output_type": "stream",
     "text": [
      "7\n"
     ]
    }
   ],
   "source": [
    "\"Arithmetic\"\n",
    "print(2+5)"
   ]
  },
  {
   "cell_type": "code",
   "execution_count": 4,
   "id": "ea326c61",
   "metadata": {},
   "outputs": [
    {
     "name": "stdout",
     "output_type": "stream",
     "text": [
      "10\n",
      "15\n"
     ]
    }
   ],
   "source": [
    "\"Assign\"\n",
    "x=10\n",
    "print(x)\n",
    "x+=5\n",
    "print(x)\n"
   ]
  },
  {
   "cell_type": "code",
   "execution_count": 13,
   "id": "1c74cf0a",
   "metadata": {},
   "outputs": [
    {
     "name": "stdout",
     "output_type": "stream",
     "text": [
      "45\n"
     ]
    }
   ],
   "source": [
    "\"Bitwise\"\n",
    "x=45\n",
    "x%=85\n",
    "print(x)"
   ]
  },
  {
   "cell_type": "code",
   "execution_count": 14,
   "id": "fb75ec05",
   "metadata": {},
   "outputs": [
    {
     "name": "stdout",
     "output_type": "stream",
     "text": [
      "a&b = 0\n"
     ]
    }
   ],
   "source": [
    "\"Comparison\"\n",
    "a=10\n",
    "b=4\n",
    "print(\"a&b =\",a&b)\n"
   ]
  },
  {
   "cell_type": "code",
   "execution_count": 16,
   "id": "c48852ae",
   "metadata": {},
   "outputs": [
    {
     "name": "stdout",
     "output_type": "stream",
     "text": [
      "w/d= 2\n"
     ]
    }
   ],
   "source": [
    "w=10\n",
    "d=-5\n",
    "print(\"w/d=\",w>>2)"
   ]
  },
  {
   "cell_type": "code",
   "execution_count": 17,
   "id": "08fb3633",
   "metadata": {},
   "outputs": [
    {
     "name": "stdout",
     "output_type": "stream",
     "text": [
      "w/d= 5\n"
     ]
    }
   ],
   "source": [
    "w=10\n",
    "d=-5\n",
    "print(\"w/d=\",w>>1)"
   ]
  },
  {
   "cell_type": "code",
   "execution_count": 19,
   "id": "e202c451",
   "metadata": {},
   "outputs": [
    {
     "name": "stdout",
     "output_type": "stream",
     "text": [
      "q==r False\n"
     ]
    }
   ],
   "source": [
    "q=20\n",
    "r=10\n",
    "print(\"q==r\",q==r)"
   ]
  },
  {
   "cell_type": "code",
   "execution_count": 23,
   "id": "8667ea2f",
   "metadata": {},
   "outputs": [
    {
     "name": "stdout",
     "output_type": "stream",
     "text": [
      "q!=r True\n"
     ]
    }
   ],
   "source": [
    "q=20\n",
    "r=10\n",
    "print(\"q!=r\",q!=r)\n"
   ]
  },
  {
   "cell_type": "code",
   "execution_count": 24,
   "id": "16b537dd",
   "metadata": {},
   "outputs": [
    {
     "name": "stdout",
     "output_type": "stream",
     "text": [
      "q>=r True\n"
     ]
    }
   ],
   "source": [
    "q=20\n",
    "r=10\n",
    "print(\"q>=r\",q>=r)"
   ]
  },
  {
   "cell_type": "code",
   "execution_count": 26,
   "id": "62bc7863",
   "metadata": {},
   "outputs": [
    {
     "name": "stdout",
     "output_type": "stream",
     "text": [
      "q<=r False\n"
     ]
    }
   ],
   "source": [
    "q=20\n",
    "r=10\n",
    "print(\"q<=r\",q<=r)"
   ]
  },
  {
   "cell_type": "code",
   "execution_count": 28,
   "id": "23505e5b",
   "metadata": {},
   "outputs": [
    {
     "name": "stdout",
     "output_type": "stream",
     "text": [
      "True\n"
     ]
    }
   ],
   "source": [
    "\"Logical and\"\n",
    "z=5\n",
    "c=8\n",
    "print(z==5 and c==8)"
   ]
  },
  {
   "cell_type": "code",
   "execution_count": 29,
   "id": "31bc90f5",
   "metadata": {},
   "outputs": [
    {
     "name": "stdout",
     "output_type": "stream",
     "text": [
      "True\n"
     ]
    }
   ],
   "source": [
    "\"Logical or\"\n",
    "z=5\n",
    "c=8\n",
    "print(z==5 or c==8)"
   ]
  },
  {
   "cell_type": "code",
   "execution_count": 30,
   "id": "c6a28b3a",
   "metadata": {},
   "outputs": [
    {
     "name": "stdout",
     "output_type": "stream",
     "text": [
      "True\n"
     ]
    }
   ],
   "source": [
    "z=5\n",
    "c=8\n",
    "print(z>=5 or c>=8)"
   ]
  },
  {
   "cell_type": "code",
   "execution_count": 33,
   "id": "6a8ab053",
   "metadata": {},
   "outputs": [
    {
     "name": "stdout",
     "output_type": "stream",
     "text": [
      "False\n"
     ]
    }
   ],
   "source": [
    "z=9\n",
    "c=6\n",
    "print(z<=5 and c<=8)"
   ]
  },
  {
   "cell_type": "code",
   "execution_count": 37,
   "id": "92ccb519",
   "metadata": {},
   "outputs": [
    {
     "name": "stdout",
     "output_type": "stream",
     "text": [
      "False\n"
     ]
    }
   ],
   "source": [
    "z=5\n",
    "c=9\n",
    "print(z==6 )"
   ]
  },
  {
   "cell_type": "code",
   "execution_count": 38,
   "id": "41958885",
   "metadata": {},
   "outputs": [
    {
     "name": "stdout",
     "output_type": "stream",
     "text": [
      "<built-in function id>\n"
     ]
    }
   ],
   "source": [
    "id(50)\n",
    "print(id)"
   ]
  },
  {
   "cell_type": "code",
   "execution_count": 42,
   "id": "920abbe7",
   "metadata": {},
   "outputs": [
    {
     "name": "stdout",
     "output_type": "stream",
     "text": [
      "1865268948816\n"
     ]
    }
   ],
   "source": [
    "id(50)\n",
    "print(id(50))"
   ]
  },
  {
   "cell_type": "code",
   "execution_count": 44,
   "id": "78a07740",
   "metadata": {},
   "outputs": [
    {
     "name": "stdout",
     "output_type": "stream",
     "text": [
      "1865269895600\n"
     ]
    }
   ],
   "source": [
    "id(\"abc\")\n",
    "print(id(\"abc\"))"
   ]
  },
  {
   "cell_type": "code",
   "execution_count": 45,
   "id": "84ffdbb0",
   "metadata": {},
   "outputs": [
    {
     "name": "stdout",
     "output_type": "stream",
     "text": [
      "True\n"
     ]
    },
    {
     "name": "stderr",
     "output_type": "stream",
     "text": [
      "<>:1: SyntaxWarning: \"is\" with a literal. Did you mean \"==\"?\n",
      "<>:1: SyntaxWarning: \"is\" with a literal. Did you mean \"==\"?\n",
      "C:\\Users\\Shree\\AppData\\Local\\Temp\\ipykernel_9640\\1697697746.py:1: SyntaxWarning: \"is\" with a literal. Did you mean \"==\"?\n",
      "  print(1 is 1)\n"
     ]
    }
   ],
   "source": [
    "\"Membership\"\n",
    "print(1 is 1)"
   ]
  },
  {
   "cell_type": "code",
   "execution_count": 46,
   "id": "81220901",
   "metadata": {},
   "outputs": [
    {
     "name": "stdout",
     "output_type": "stream",
     "text": [
      "False\n"
     ]
    },
    {
     "name": "stderr",
     "output_type": "stream",
     "text": [
      "<>:1: SyntaxWarning: \"is\" with a literal. Did you mean \"==\"?\n",
      "<>:1: SyntaxWarning: \"is\" with a literal. Did you mean \"==\"?\n",
      "C:\\Users\\Shree\\AppData\\Local\\Temp\\ipykernel_9640\\2078422729.py:1: SyntaxWarning: \"is\" with a literal. Did you mean \"==\"?\n",
      "  print(1 is 2)\n"
     ]
    }
   ],
   "source": [
    "print(1 is 2)"
   ]
  },
  {
   "cell_type": "code",
   "execution_count": 47,
   "id": "badb96ae",
   "metadata": {},
   "outputs": [
    {
     "name": "stdout",
     "output_type": "stream",
     "text": [
      "True\n"
     ]
    },
    {
     "name": "stderr",
     "output_type": "stream",
     "text": [
      "<>:1: SyntaxWarning: \"is not\" with a literal. Did you mean \"!=\"?\n",
      "<>:1: SyntaxWarning: \"is not\" with a literal. Did you mean \"!=\"?\n",
      "C:\\Users\\Shree\\AppData\\Local\\Temp\\ipykernel_9640\\3173331589.py:1: SyntaxWarning: \"is not\" with a literal. Did you mean \"!=\"?\n",
      "  print(1 is not 2)\n"
     ]
    }
   ],
   "source": [
    "print(1 is not 2)"
   ]
  },
  {
   "cell_type": "code",
   "execution_count": 51,
   "id": "75c1d0de",
   "metadata": {},
   "outputs": [
    {
     "name": "stdout",
     "output_type": "stream",
     "text": [
      "True\n"
     ]
    }
   ],
   "source": [
    "s=[20,30,40]\n",
    "print(1 not in s)"
   ]
  },
  {
   "cell_type": "code",
   "execution_count": 52,
   "id": "08016089",
   "metadata": {},
   "outputs": [
    {
     "name": "stdout",
     "output_type": "stream",
     "text": [
      "False\n"
     ]
    }
   ],
   "source": [
    "s=[20,30,40]\n",
    "print(1 in s)"
   ]
  },
  {
   "cell_type": "code",
   "execution_count": 57,
   "id": "1873965d",
   "metadata": {},
   "outputs": [
    {
     "name": "stdout",
     "output_type": "stream",
     "text": [
      "10\n",
      "20\n"
     ]
    }
   ],
   "source": [
    "\"identifiers\"\n",
    "A=10\n",
    "a=20\n",
    "print(A)\n",
    "print(a)"
   ]
  },
  {
   "cell_type": "code",
   "execution_count": 58,
   "id": "9adf05bc",
   "metadata": {},
   "outputs": [
    {
     "name": "stdout",
     "output_type": "stream",
     "text": [
      "xyz\n"
     ]
    }
   ],
   "source": [
    "\"String literls\"\n",
    "a=\"xyz\"\n",
    "print(a)"
   ]
  },
  {
   "cell_type": "code",
   "execution_count": 60,
   "id": "83e34d07",
   "metadata": {},
   "outputs": [
    {
     "name": "stdout",
     "output_type": "stream",
     "text": [
      "dfcgjcbnmb\n",
      "gbsfjgdahs\n",
      "fbxhc\n",
      "vdhsgv\n"
     ]
    }
   ],
   "source": [
    "a='''dfcgjcbnmb\n",
    "gbsfjgdahs\n",
    "fbxhc\n",
    "vdhsgv'''\n",
    "print(a)\n"
   ]
  },
  {
   "cell_type": "code",
   "execution_count": 62,
   "id": "845b8c2e",
   "metadata": {},
   "outputs": [
    {
     "name": "stdout",
     "output_type": "stream",
     "text": [
      "1.1 \n",
      "2.1\n",
      "3.1\n"
     ]
    }
   ],
   "source": [
    "\"Numeric literls\"\n",
    "a='''1.1 \n",
    "2.1\n",
    "3.1'''\n",
    "print(a)"
   ]
  },
  {
   "cell_type": "code",
   "execution_count": 63,
   "id": "c9e9bed5",
   "metadata": {},
   "outputs": [
    {
     "name": "stdout",
     "output_type": "stream",
     "text": [
      "14j\n"
     ]
    }
   ],
   "source": [
    "z=14j\n",
    "print(z)"
   ]
  },
  {
   "cell_type": "code",
   "execution_count": 66,
   "id": "308c13d1",
   "metadata": {},
   "outputs": [
    {
     "ename": "SyntaxError",
     "evalue": "invalid syntax (3469881506.py, line 1)",
     "output_type": "error",
     "traceback": [
      "\u001b[1;36m  Input \u001b[1;32mIn [66]\u001b[1;36m\u001b[0m\n\u001b[1;33m    j=14c\u001b[0m\n\u001b[1;37m        ^\u001b[0m\n\u001b[1;31mSyntaxError\u001b[0m\u001b[1;31m:\u001b[0m invalid syntax\n"
     ]
    }
   ],
   "source": [
    "j=14c\n",
    "print(j)"
   ]
  },
  {
   "cell_type": "code",
   "execution_count": 67,
   "id": "2dae9f66",
   "metadata": {},
   "outputs": [
    {
     "name": "stdout",
     "output_type": "stream",
     "text": [
      "False\n"
     ]
    }
   ],
   "source": [
    "\"Boolean\"\n",
    "a=25\n",
    "b=35\n",
    "print(a==b)"
   ]
  },
  {
   "cell_type": "code",
   "execution_count": 70,
   "id": "350fda53",
   "metadata": {},
   "outputs": [
    {
     "name": "stdout",
     "output_type": "stream",
     "text": [
      "12\n"
     ]
    }
   ],
   "source": [
    "\" H.W find between two no.s which no is greater\"\n",
    "\"check comparison and check opertor\"\n",
    "a=10\n",
    "b=12\n",
    "if(a>=b):\n",
    "  print(a)\n",
    "else:\n",
    "  print(b)\n"
   ]
  },
  {
   "cell_type": "code",
   "execution_count": null,
   "id": "e5238bb8",
   "metadata": {},
   "outputs": [],
   "source": []
  }
 ],
 "metadata": {
  "kernelspec": {
   "display_name": "Python 3 (ipykernel)",
   "language": "python",
   "name": "python3"
  },
  "language_info": {
   "codemirror_mode": {
    "name": "ipython",
    "version": 3
   },
   "file_extension": ".py",
   "mimetype": "text/x-python",
   "name": "python",
   "nbconvert_exporter": "python",
   "pygments_lexer": "ipython3",
   "version": "3.9.12"
  }
 },
 "nbformat": 4,
 "nbformat_minor": 5
}
