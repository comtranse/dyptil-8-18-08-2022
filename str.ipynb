{
 "cells": [
  {
   "cell_type": "code",
   "execution_count": 2,
   "id": "d991f925",
   "metadata": {},
   "outputs": [
    {
     "name": "stdout",
     "output_type": "stream",
     "text": [
      "'abc'\n"
     ]
    }
   ],
   "source": [
    "var=\"'abc'\"\n",
    "print(var)"
   ]
  },
  {
   "cell_type": "code",
   "execution_count": 15,
   "id": "a45f517d",
   "metadata": {},
   "outputs": [
    {
     "name": "stdout",
     "output_type": "stream",
     "text": [
      "My name is \n",
      "\"daidipya\"\n"
     ]
    }
   ],
   "source": [
    "var=\"My name is \\n\\\"daidipya\\\"\"\n",
    "print(var)"
   ]
  },
  {
   "cell_type": "code",
   "execution_count": 16,
   "id": "db726868",
   "metadata": {},
   "outputs": [
    {
     "name": "stdout",
     "output_type": "stream",
     "text": [
      "My name is \t\"daidipya\"\n"
     ]
    }
   ],
   "source": [
    "var=\"My name is \\t\\\"daidipya\\\"\"\n",
    "print(var)"
   ]
  },
  {
   "cell_type": "code",
   "execution_count": 22,
   "id": "9f127f11",
   "metadata": {},
   "outputs": [
    {
     "name": "stdout",
     "output_type": "stream",
     "text": [
      "My name \n",
      " is \b\"daidipya\"\n"
     ]
    }
   ],
   "source": [
    "var=\"My name \\n is \\b\\\"daidipya\\\"\"\n",
    "print(var)"
   ]
  },
  {
   "cell_type": "code",
   "execution_count": 23,
   "id": "2857bfe1",
   "metadata": {},
   "outputs": [
    {
     "name": "stdout",
     "output_type": "stream",
     "text": [
      "15\n"
     ]
    }
   ],
   "source": [
    "var=\"xyzfsghdhfdgkah\"\n",
    "print(len(var))"
   ]
  },
  {
   "cell_type": "code",
   "execution_count": 24,
   "id": "caa40756",
   "metadata": {},
   "outputs": [
    {
     "name": "stdout",
     "output_type": "stream",
     "text": [
      "DAIDIPYA\n"
     ]
    }
   ],
   "source": [
    "var=\"daidipya\"\n",
    "print(var.upper())"
   ]
  },
  {
   "cell_type": "code",
   "execution_count": 44,
   "id": "fcfeeda8",
   "metadata": {},
   "outputs": [
    {
     "name": "stdout",
     "output_type": "stream",
     "text": [
      " daidipya \n",
      "daidipya\n",
      "2\n",
      " dfidipyf \n",
      "          d           \n",
      " daidipya d\n",
      "var1+var4 20\n",
      "e is 5 roll no xyz\n",
      "5.0\n"
     ]
    },
    {
     "ename": "TypeError",
     "evalue": "can't convert complex to float",
     "output_type": "error",
     "traceback": [
      "\u001b[1;31m---------------------------------------------------------------------------\u001b[0m",
      "\u001b[1;31mTypeError\u001b[0m                                 Traceback (most recent call last)",
      "Input \u001b[1;32mIn [44]\u001b[0m, in \u001b[0;36m<cell line: 21>\u001b[1;34m()\u001b[0m\n\u001b[0;32m     19\u001b[0m var8\u001b[38;5;241m=\u001b[39m\u001b[38;5;241m0.5\u001b[39mj\n\u001b[0;32m     20\u001b[0m \u001b[38;5;66;03m# print(int(var8))\u001b[39;00m\n\u001b[1;32m---> 21\u001b[0m \u001b[38;5;28mprint\u001b[39m(\u001b[38;5;28;43mfloat\u001b[39;49m\u001b[43m(\u001b[49m\u001b[43mvar8\u001b[49m\u001b[43m)\u001b[49m)\n",
      "\u001b[1;31mTypeError\u001b[0m: can't convert complex to float"
     ]
    }
   ],
   "source": [
    "var=\" daidipya \"\n",
    "print(var.lower())\n",
    "print(var.strip())\n",
    "print(var.count(\"d\"))\n",
    "print(var.replace(\"a\",\"f\"))\n",
    "var1=\"d\"\n",
    "print(var1.center(22))\n",
    "var3=var+var1\n",
    "print(var3)\n",
    "var4=20\n",
    "var5=\"var1+var4 {}\"\n",
    "# print(var5)\n",
    "print(var5.format(var4))\n",
    "var6=5\n",
    "var7=\"xyz\"\n",
    "var8=\"e is {} roll no {}\"\n",
    "print(var8.format(var6,var7))\n",
    "print(float(var6))\n",
    "var8=0.5j\n",
    "# print(int(var8))\n",
    "print(float(var8))"
   ]
  },
  {
   "cell_type": "code",
   "execution_count": 76,
   "id": "9172c72b",
   "metadata": {},
   "outputs": [
    {
     "name": "stdout",
     "output_type": "stream",
     "text": [
      "40\n",
      "(20, 30, 40, 40, 'xyz', ('abc', '40', 30))\n",
      "([1, 2, 3, 4], [5, 6, 7, 8])\n",
      "[5, 6, 7, 8]\n",
      "1\n",
      "(4, 4, 4, 4, 4, 4, 4, 4, 4, 4)\n",
      "10\n",
      "20\n",
      "30\n",
      "40\n",
      "4\n",
      "(20, 30, 40, 40, 'xyz', ('abc', '40', 30))\n",
      "30\n",
      "(25, 30)\n"
     ]
    }
   ],
   "source": [
    "# Tuples\n",
    "var=(20,30,40,40,\"xyz\",(\"abc\",\"40\",30))\n",
    "var1=([1,2,3,4],[5,6,7,8])\n",
    "print(var[2])\n",
    "print(var)\n",
    "print(var1)\n",
    "print(var1[1])\n",
    "print(var1[0][0])\n",
    "var2=((4,4)*5)\n",
    "print(var2)\n",
    "a=(10,20,30,40)\n",
    "(clgname,rollno,address,phoneno)=a\n",
    "print(clgname)\n",
    "print(rollno)\n",
    "print(address)\n",
    "print(phoneno)\n",
    "print(len(a))\n",
    "print(var)\n",
    "b=(20,25,30,45)\n",
    "print(b[-2])\n",
    "print(b[1:-1])\n",
    "\n",
    "\n",
    "\n",
    "\n"
   ]
  },
  {
   "cell_type": "code",
   "execution_count": null,
   "id": "e607add8",
   "metadata": {},
   "outputs": [],
   "source": []
  }
 ],
 "metadata": {
  "kernelspec": {
   "display_name": "Python 3 (ipykernel)",
   "language": "python",
   "name": "python3"
  },
  "language_info": {
   "codemirror_mode": {
    "name": "ipython",
    "version": 3
   },
   "file_extension": ".py",
   "mimetype": "text/x-python",
   "name": "python",
   "nbconvert_exporter": "python",
   "pygments_lexer": "ipython3",
   "version": "3.9.12"
  }
 },
 "nbformat": 4,
 "nbformat_minor": 5
}
